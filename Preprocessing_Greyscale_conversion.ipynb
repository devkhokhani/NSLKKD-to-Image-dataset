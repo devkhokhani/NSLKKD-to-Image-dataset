{
 "cells": [
  {
   "cell_type": "code",
   "execution_count": 2,
   "metadata": {
    "collapsed": true
   },
   "outputs": [],
   "source": [
    "import pandas as pd\n",
    "import numpy as np\n",
    "from sklearn import preprocessing"
   ]
  },
  {
   "cell_type": "code",
   "execution_count": 3,
   "metadata": {},
   "outputs": [
    {
     "name": "stdout",
     "output_type": "stream",
     "text": [
      "(125973, 42)\n",
      "(18793, 42)\n"
     ]
    }
   ],
   "source": [
    "col=[\"duration\",\"protocol_type\",\"service\",\"flag\",\"src_bytes\",\"dst_bytes\",\"land\",\"wrong_fragment\",\"urgent\",\"hot\",\"num_failed_logins\",\"logged_in\",\"num_compromised\",\"root_shell\",\"su_attempted\",\"num_root\",\"num_file_creations\",\"num_shells\",\"num_access_files\",\"num_outbound_cmds\",\"is_host_login\",\"is_guest_login\",\"count\",\"srv_count\",\"serror_rate\",\"srv_serror_rate\",\"rerror_rate\",\"srv_rerror_rate\",\"same_srv_rate\",\"diff_srv_rate\",\"srv_diff_host_rate\",\"dst_host_count\",\"dst_host_srv_count\",\"dst_host_same_srv_rate\",\"dst_host_diff_srv_rate\",\"dst_host_same_src_port_rate\",\"dst_host_srv_diff_host_rate\",\"dst_host_serror_rate\",\"dst_host_srv_serror_rate\",\"dst_host_rerror_rate\",\"dst_host_srv_rerror_rate\",\"label\"] \n",
    "col1=list('duration protocol_type service flag src_bytes dst_bytes land wrong_fragment urgent hot num_failed_logins logged_in num_compromised root_shell su_attempted num_root num_file_creations num_shells num_access_files num_outbound_cmds is_host_login is_guest_login count srv_count serror_rate srv_serror_rate rerror_rate srv_rerror_rate same_srv_rate diff_srv_rate srv_diff_host_rate dst_host_count dst_host_srv_count dst_host_same_srv_rate dst_host_diff_srv_rate dst_host_same_src_port_rate dst_host_srv_diff_host_rate dst_host_serror_rate dst_host_srv_serror_rate dst_host_rerror_rate dst_host_srv_rerror_rate label') \n",
    "\n",
    "\n",
    "data_train= pd.read_csv('C:/Users/Devanshu/Desktop/faltu/KDDTrain+.csv', sep=',', names= col,header=None)\n",
    "data_test=pd.read_csv('C:/Users/Devanshu/Desktop/faltu/data without misslabel/KDDTest+_without_misslabel.csv', sep=',', names= col,header=None)\n",
    "print(data_train.shape)\n",
    "print(data_test.shape)"
   ]
  },
  {
   "cell_type": "code",
   "execution_count": 4,
   "metadata": {},
   "outputs": [
    {
     "name": "stdout",
     "output_type": "stream",
     "text": [
      "(144766, 42)\n"
     ]
    }
   ],
   "source": [
    "df= pd.concat([data_train, data_test])\n",
    "print(df.shape)\n",
    "#total [148516 rows x 42 columns]"
   ]
  },
  {
   "cell_type": "code",
   "execution_count": 12,
   "metadata": {},
   "outputs": [
    {
     "name": "stdout",
     "output_type": "stream",
     "text": [
      "(125973,)\n",
      "['dos' 'normal' 'probe' 'r2l' 'u2r']\n",
      "[1 1 0 ... 1 0 1]\n"
     ]
    }
   ],
   "source": [
    "# one hot encode the label with sklearn label encoder \n",
    "df_label=df.label\n",
    "df_label=df.label[:125973]\n",
    "print(df_label.shape)\n",
    "\n",
    "le= preprocessing.LabelEncoder()\n",
    "le.fit(df_label)\n",
    "print(le.classes_)\n",
    "a= le.transform(df_label) \n",
    "print(a)\n",
    "tra= pd.DataFrame(a)\n",
    "enc = preprocessing.OneHotEncoder()\n",
    "enc.fit(tra)\n",
    "onehotlabels = enc.transform(tra).toarray()\n",
    "onehotlabels.shape\n",
    "\n",
    "np.savetxt('C:/Users/Devanshu/Desktop/faltu/data without misslabel/label_encoded_train.csv', onehotlabels, fmt='%.18e', delimiter=',', newline='\\n', header='', footer='', comments='# ')"
   ]
  },
  {
   "cell_type": "code",
   "execution_count": 13,
   "metadata": {},
   "outputs": [
    {
     "name": "stdout",
     "output_type": "stream",
     "text": [
      "(18793,)\n",
      "[0 0 1 ... 1 0 1]\n"
     ]
    }
   ],
   "source": [
    "df_label_test=df.label[125973:]\n",
    "print(df_label_test.shape)\n",
    "#print(df_label_test)\n",
    "le1= preprocessing.LabelEncoder()\n",
    "le1.fit(df_label_test)\n",
    "a1= le1.transform(df_label_test) \n",
    "print(a1)\n",
    "tra_test= pd.DataFrame(a1)\n",
    "\n",
    "enc1 = preprocessing.OneHotEncoder()\n",
    "enc1.fit(tra_test)\n",
    "onehotlabels1 = enc1.transform(tra_test).toarray()\n",
    "onehotlabels1.shape\n",
    "np.savetxt('C:/Users/Devanshu/Desktop/faltu/data without misslabel/label_encoded_test.csv', onehotlabels1, fmt='%.18e', delimiter=',', newline='\\n', header='', footer='', comments='# ')"
   ]
  },
  {
   "cell_type": "code",
   "execution_count": 14,
   "metadata": {
    "collapsed": true
   },
   "outputs": [],
   "source": [
    "# drop column='label' & 'num_outbound_cmds' from df as labels are to be one hot encoded and num_outbound_cmds has only value 0\n",
    "# which will have no effect on overall data.\n",
    "\n",
    "new_df= df.drop(labels=[\"num_outbound_cmds\",\"label\"],axis=1)\n",
    "#print(new_df.head(3))"
   ]
  },
  {
   "cell_type": "code",
   "execution_count": 15,
   "metadata": {},
   "outputs": [
    {
     "name": "stdout",
     "output_type": "stream",
     "text": [
      "Protocol_type\n"
     ]
    }
   ],
   "source": [
    "for i in range(len(new_df.columns)):\n",
    "    count = i+0\n",
    "    name = new_df.columns[count]\n",
    "    if name== 'protocol_type' :\n",
    "        le = preprocessing.LabelEncoder()\n",
    "        le.fit(new_df[name])\n",
    "        a= le.transform(new_df[name])\n",
    "        x= np.reshape(a,(-1,1))\n",
    "        new1= np.asarray(x).reshape(1, -1)[0,:]\n",
    "        new_df1= pd.DataFrame({'protocol_type': new1})\n",
    "        new_df.update(new_df1, overwrite= True)\n",
    "        #print(data)\n",
    "        print('Protocol_type')\n",
    "        #print(x)\n",
    "    elif name=='service' :\n",
    "        le = preprocessing.LabelEncoder()\n",
    "        le.fit(new_df[name])\n",
    "        b= le.transform(new_df[name])\n",
    "        y= np.reshape(b,(-1,1))\n",
    "        new2= np.asarray(y).reshape(1, -1)[0,:]\n",
    "        new_df2= pd.DataFrame({'service': new2})\n",
    "        new_df.update(new_df2, overwrite= True)\n",
    "        #print('Service')\n",
    "        #print(y)\n",
    "    elif name=='flag':\n",
    "        le = preprocessing.LabelEncoder()\n",
    "        le.fit(new_df[name])\n",
    "        c= le.transform(new_df[name])\n",
    "        z= np.reshape(c,(-1,1))\n",
    "        new3= np.asarray(z).reshape(1, -1)[0,:]\n",
    "        new_df3= pd.DataFrame({'flag': new3})\n",
    "        new_df.update(new_df3, overwrite= True)\n",
    "        #print(data)\n",
    "       # print('flag')\n",
    "        #print(z)\n",
    "        \n",
    "\n",
    "        \n",
    "#data.to_csv('C:\\\\Users\\\\Devanshu\\\\Desktop\\\\concat_label.csv', sep=',', na_rep='', float_format=None, index_label=None)\n",
    "\n",
    "# Min-max normaliztion on dataframe\n",
    "\n",
    "g= new_df.sub(new_df.min(axis=0))\n",
    "h= (new_df.max(axis=0)).sub(new_df.min(axis=0))\n",
    "f= g.div(h)\n",
    "\n",
    "#print(f)\n",
    "\n",
    "np.savetxt('C:/Users/Devanshu/Desktop/faltu/data without misslabel/train_test_without_miss_normalize.csv', f, fmt='%.18e', delimiter=',', newline='\\n', header='', footer='', comments='# ')"
   ]
  },
  {
   "cell_type": "code",
   "execution_count": 89,
   "metadata": {
    "collapsed": true
   },
   "outputs": [],
   "source": [
    "disct_df= pd.read_csv('C:/Users/Devanshu/Desktop/faltu/train_test_with_misslabel.csv', sep=',',header=None)\n",
    "#print(disct_df.head(3))"
   ]
  },
  {
   "cell_type": "code",
   "execution_count": 90,
   "metadata": {},
   "outputs": [
    {
     "name": "stdout",
     "output_type": "stream",
     "text": [
      "Int64Index([ 0,  1,  2,  3,  4,  5,  6,  7,  8,  9, 10, 11, 12, 13, 14, 15, 16,\n",
      "            17, 18, 19, 20, 21, 22, 23, 24, 25, 26, 27, 28, 29, 30, 31, 32, 33,\n",
      "            34, 35, 36, 37, 38, 39],\n",
      "           dtype='int64')\n",
      "(129723, 40)\n"
     ]
    }
   ],
   "source": [
    "print(disct_df.columns)\n",
    "print(disct_df.shape)"
   ]
  },
  {
   "cell_type": "code",
   "execution_count": 91,
   "metadata": {
    "collapsed": true
   },
   "outputs": [],
   "source": [
    "def interval(disct_df):\n",
    "\n",
    "    z= np.zeros((129723,400))\n",
    "    for i in range(len(disct_df.columns)):\n",
    "        count=0+i\n",
    "        x= pd.cut(disct_df[count], 10)\n",
    "        y= pd.get_dummies(x, prefix=None, prefix_sep='_', dummy_na=False, columns=None, sparse=False, drop_first=False)\n",
    "        z[:,i*10:(i*10+10)] = y\n",
    "    return z"
   ]
  },
  {
   "cell_type": "code",
   "execution_count": 92,
   "metadata": {},
   "outputs": [
    {
     "name": "stdout",
     "output_type": "stream",
     "text": [
      "(129723, 400)\n"
     ]
    }
   ],
   "source": [
    "final_op= interval(disct_df)\n",
    "print(final_op.shape)\n",
    "#np.savetxt('C:\\\\Users\\\\Devanshu\\\\Desktop\\\\feature_discretized.csv',final_op,fmt='%5s',delimiter=',',newline='\\n')"
   ]
  },
  {
   "cell_type": "code",
   "execution_count": 93,
   "metadata": {},
   "outputs": [
    {
     "data": {
      "text/plain": [
       "(129723, 400)"
      ]
     },
     "execution_count": 93,
     "metadata": {},
     "output_type": "execute_result"
    }
   ],
   "source": [
    "dummies_array= np.asarray(final_op)\n",
    "dummies_array.shape"
   ]
  },
  {
   "cell_type": "code",
   "execution_count": 94,
   "metadata": {
    "collapsed": true
   },
   "outputs": [],
   "source": [
    "dummies_array=dummies_array.reshape(129723,50,8)"
   ]
  },
  {
   "cell_type": "code",
   "execution_count": 95,
   "metadata": {
    "collapsed": true
   },
   "outputs": [],
   "source": [
    "# Greyscale conversion on all the data\n",
    "\n",
    "temp = np.zeros((dummies_array.shape[0],dummies_array.shape[1]))\n",
    "for i in range(dummies_array.shape[0]):\n",
    "    for j in range(dummies_array.shape[1]):\n",
    "        temp[i,j] = np.sum(2**np.arange(7,-1,-1)*dummies_array[i,j,:])"
   ]
  },
  {
   "cell_type": "code",
   "execution_count": 96,
   "metadata": {},
   "outputs": [
    {
     "name": "stdout",
     "output_type": "stream",
     "text": [
      "[[ 128.    2.    2. ...,    8.    2.    0.]\n",
      " [ 128.    0.   16. ...,    8.    2.    0.]\n",
      " [ 128.    2.    0. ...,   24.    2.    0.]\n",
      " ..., \n",
      " [ 128.    2.    8. ...,    0.   64.   16.]\n",
      " [ 128.    2.    1. ...,    2.    2.    0.]\n",
      " [ 128.    2.    0. ...,    0.  128.    1.]]\n"
     ]
    }
   ],
   "source": [
    "print(temp)\n",
    "np.savetxt('C:/Users/Devanshu/Desktop/faltu/greyscale_train_test_with_misslabel.csv',temp,fmt='%5s',delimiter=',',newline='\\n')"
   ]
  }
 ],
 "metadata": {
  "kernelspec": {
   "display_name": "Python 3",
   "language": "python",
   "name": "python3"
  },
  "language_info": {
   "codemirror_mode": {
    "name": "ipython",
    "version": 3
   },
   "file_extension": ".py",
   "mimetype": "text/x-python",
   "name": "python",
   "nbconvert_exporter": "python",
   "pygments_lexer": "ipython3",
   "version": "3.6.1"
  }
 },
 "nbformat": 4,
 "nbformat_minor": 2
}
